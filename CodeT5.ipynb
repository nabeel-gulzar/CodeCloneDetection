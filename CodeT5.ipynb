{
  "cells": [
    {
      "cell_type": "markdown",
      "metadata": {
        "id": "view-in-github",
        "colab_type": "text"
      },
      "source": [
        "<a href=\"https://colab.research.google.com/github/nabeel-gulzar/CodeCloneDetection/blob/main/CodeT5.ipynb\" target=\"_parent\"><img src=\"https://colab.research.google.com/assets/colab-badge.svg\" alt=\"Open In Colab\"/></a>"
      ]
    },
    {
      "cell_type": "code",
      "source": [
        "%%capture\n",
        "!pip install transformers"
      ],
      "metadata": {
        "id": "TlzywwSbGRqK"
      },
      "execution_count": 1,
      "outputs": []
    },
    {
      "cell_type": "code",
      "source": [
        "# !gsutil\n",
        "# !gsutil cp gs://sfr-codet5-data-research/finetuned_models/clone_codet5_base.bin /content/drive/MyDrive/model-ckpts/codet5-ccd"
      ],
      "metadata": {
        "id": "JGqFmZ3hGiQM",
        "outputId": "c79f9733-8487-45c0-ba71-271fedbd67f0",
        "colab": {
          "base_uri": "https://localhost:8080/"
        }
      },
      "execution_count": 8,
      "outputs": [
        {
          "output_type": "stream",
          "name": "stdout",
          "text": [
            "Copying gs://sfr-codet5-data-research/finetuned_models/clone_codet5_base.bin...\n",
            "\\ [1 files][850.4 MiB/850.4 MiB]   47.7 MiB/s                                   \n",
            "Operation completed over 1 objects/850.4 MiB.                                    \n"
          ]
        }
      ]
    },
    {
      "cell_type": "code",
      "source": [
        "import torch\n",
        "from transformers import RobertaTokenizer, T5ForConditionalGeneration, T5Config, T5Tokenizer"
      ],
      "metadata": {
        "id": "DMita1XxGt7O"
      },
      "execution_count": 2,
      "outputs": []
    },
    {
      "cell_type": "code",
      "source": [
        "ckpt_path = \"/content/drive/MyDrive/model-ckpts/codet5-ccd/clone_codet5_base.bin\""
      ],
      "metadata": {
        "id": "OcXAkpZzKhNn"
      },
      "execution_count": 19,
      "outputs": []
    },
    {
      "cell_type": "code",
      "source": [
        "# base_model = T5ForConditionalGeneration.from_pretrained('Salesforce/codet5-base')\n",
        "# tokenizer = RobertaTokenizer.from_pretrained('Salesforce/codet5-base')"
      ],
      "metadata": {
        "id": "u7SJjE3FXj_E"
      },
      "execution_count": 73,
      "outputs": []
    },
    {
      "cell_type": "code",
      "source": [
        "# input_ids = tokenizer(\"text\", return_tensors=\"pt\")"
      ],
      "metadata": {
        "id": "F1qDatLyYuBH"
      },
      "execution_count": 86,
      "outputs": []
    },
    {
      "cell_type": "code",
      "source": [
        "# input_ids.input_ids.size()"
      ],
      "metadata": {
        "id": "CXtX1JOWZ32f"
      },
      "execution_count": 3,
      "outputs": []
    },
    {
      "cell_type": "code",
      "source": [
        "import torch.nn as nn"
      ],
      "metadata": {
        "id": "Eni663QvYCDj"
      },
      "execution_count": 4,
      "outputs": []
    },
    {
      "cell_type": "code",
      "source": [
        "class RobertaClassificationHead(nn.Module):\n",
        "    \"\"\"Head for sentence-level classification tasks.\"\"\"\n",
        "\n",
        "    def __init__(self, config):\n",
        "        super().__init__()\n",
        "        self.dense = nn.Linear(config.hidden_size * 2, config.hidden_size)\n",
        "        self.out_proj = nn.Linear(config.hidden_size, 2)\n",
        "\n",
        "    def forward(self, x, **kwargs):\n",
        "        x = x.reshape(-1, x.size(-1) * 2)\n",
        "        x = self.dense(x)\n",
        "        x = torch.tanh(x)\n",
        "        x = self.out_proj(x)\n",
        "        return x"
      ],
      "metadata": {
        "id": "w52g_5L4a_eW"
      },
      "execution_count": 5,
      "outputs": []
    },
    {
      "cell_type": "code",
      "source": [
        "class CloneModel(nn.Module):\n",
        "    def __init__(self, encoder, config, tokenizer, args):\n",
        "        super(CloneModel, self).__init__()\n",
        "        self.encoder = encoder\n",
        "        self.config = config\n",
        "        self.tokenizer = tokenizer\n",
        "        self.classifier = RobertaClassificationHead(config)\n",
        "        self.args = args\n",
        "\n",
        "    def get_t5_vec(self, source_ids):\n",
        "        attention_mask = source_ids.ne(self.tokenizer.pad_token_id)\n",
        "        outputs = self.encoder(input_ids=source_ids, attention_mask=attention_mask,\n",
        "                               labels=source_ids, decoder_attention_mask=attention_mask, output_hidden_states=True)\n",
        "        hidden_states = outputs['decoder_hidden_states'][-1]\n",
        "        eos_mask = source_ids.eq(self.config.eos_token_id)\n",
        "\n",
        "        if len(torch.unique(eos_mask.sum(1))) > 1:\n",
        "            raise ValueError(\"All examples must have the same number of <eos> tokens.\")\n",
        "        vec = hidden_states[eos_mask, :].view(hidden_states.size(0), -1,\n",
        "                                              hidden_states.size(-1))[:, -1, :]\n",
        "        return vec\n",
        "\n",
        "    # def get_bart_vec(self, source_ids):\n",
        "    #     attention_mask = source_ids.ne(self.tokenizer.pad_token_id)\n",
        "    #     outputs = self.encoder(input_ids=source_ids, attention_mask=attention_mask,\n",
        "    #                            labels=source_ids, decoder_attention_mask=attention_mask, output_hidden_states=True)\n",
        "    #     hidden_states = outputs['decoder_hidden_states'][-1]\n",
        "    #     eos_mask = source_ids.eq(self.config.eos_token_id)\n",
        "\n",
        "    #     if len(torch.unique(eos_mask.sum(1))) > 1:\n",
        "    #         raise ValueError(\"All examples must have the same number of <eos> tokens.\")\n",
        "    #     vec = hidden_states[eos_mask, :].view(hidden_states.size(0), -1,\n",
        "    #                                           hidden_states.size(-1))[:, -1, :]\n",
        "    #     return vec\n",
        "\n",
        "    # def get_roberta_vec(self, source_ids):\n",
        "    #     attention_mask = source_ids.ne(self.tokenizer.pad_token_id)\n",
        "    #     vec = self.encoder(input_ids=source_ids, attention_mask=attention_mask)[0][:, 0, :]\n",
        "    #     return vec\n",
        "\n",
        "    def forward(self, source_ids=None, labels=None):\n",
        "        source_ids = source_ids.view(-1, self.args[\"max_source_length\"])\n",
        "\n",
        "        vec = self.get_t5_vec(source_ids)\n",
        "\n",
        "        # if self.args.model_type == 'codet5':\n",
        "        #     vec = self.get_t5_vec(source_ids)\n",
        "        # elif self.args.model_type == 'bart':\n",
        "        #     vec = self.get_bart_vec(source_ids)\n",
        "        # elif self.args.model_type == 'roberta':\n",
        "        #     vec = self.get_roberta_vec(source_ids)\n",
        "\n",
        "        logits = self.classifier(vec)\n",
        "        prob = nn.functional.softmax(logits)\n",
        "\n",
        "        if labels is not None:\n",
        "            loss_fct = nn.CrossEntropyLoss()\n",
        "            loss = loss_fct(logits, labels)\n",
        "            return loss, prob\n",
        "        else:\n",
        "            return prob"
      ],
      "metadata": {
        "id": "K0bc1UWrX7l-"
      },
      "execution_count": 6,
      "outputs": []
    },
    {
      "cell_type": "code",
      "source": [
        "config_class, model_class, tokenizer_class = (T5Config, T5ForConditionalGeneration, RobertaTokenizer)\n",
        "config = config_class.from_pretrained(\"Salesforce/codet5-base\")\n",
        "model = model_class.from_pretrained(\"Salesforce/codet5-base\")\n",
        "tokenizer = tokenizer_class.from_pretrained(\"Salesforce/codet5-base\")"
      ],
      "metadata": {
        "id": "9Rt4Ww-vboHT"
      },
      "execution_count": 103,
      "outputs": []
    },
    {
      "cell_type": "code",
      "source": [
        "model = CloneModel(model, config, tokenizer, {\"max_source_length\": 400})"
      ],
      "metadata": {
        "id": "maOidO4Rgl-Q"
      },
      "execution_count": 104,
      "outputs": []
    },
    {
      "cell_type": "code",
      "source": [
        "device = torch.device(\"cuda\")\n",
        "model.to(device)"
      ],
      "metadata": {
        "id": "M6UGjGEFh4R0"
      },
      "execution_count": null,
      "outputs": []
    },
    {
      "cell_type": "code",
      "source": [
        "from torch.utils.data import DataLoader\n",
        "from sklearn.metrics import recall_score, precision_score, f1_score"
      ],
      "metadata": {
        "id": "N1wUldHeRanm"
      },
      "execution_count": 89,
      "outputs": []
    },
    {
      "cell_type": "code",
      "source": [
        "class CloneExample(object):\n",
        "    \"\"\"A single training/test example.\"\"\"\n",
        "\n",
        "    def __init__(self,\n",
        "                 code1,\n",
        "                 code2,\n",
        "                 label,\n",
        "                 url1,\n",
        "                 url2\n",
        "                 ):\n",
        "        self.source = code1\n",
        "        self.target = code2\n",
        "        self.label = label\n",
        "        self.url1 = url1\n",
        "        self.url2 = url2"
      ],
      "metadata": {
        "id": "kz0s6jIGNVJr"
      },
      "execution_count": 106,
      "outputs": []
    },
    {
      "cell_type": "code",
      "source": [
        "import numpy as np\n",
        "from torch.utils.data import SequentialSampler\n",
        "from tqdm.notebook import tqdm"
      ],
      "metadata": {
        "id": "iw7Qz6WOTBMW"
      },
      "execution_count": 107,
      "outputs": []
    },
    {
      "cell_type": "code",
      "source": [
        "def evaluate(model, eval_examples, eval_data):\n",
        "    eval_sampler = SequentialSampler(eval_data)\n",
        "    eval_dataloader = DataLoader(eval_data, sampler=eval_sampler, batch_size=10)\n",
        "\n",
        "    # Eval!\n",
        "    # logger.info(\"***** Running evaluation  *****\")\n",
        "    # logger.info(\"  Num examples = %d\", len(eval_examples))\n",
        "    # logger.info(\"  Batch size = %d\", args.eval_batch_size)\n",
        "    eval_loss = 0.0\n",
        "    nb_eval_steps = 0\n",
        "    model.eval()\n",
        "    logits = []\n",
        "    y_trues = []\n",
        "    for batch in tqdm(eval_dataloader, total=len(eval_dataloader), desc=\"Evaluating\"):\n",
        "        inputs = batch[0].to(device)\n",
        "        labels = batch[1].to(device)\n",
        "        with torch.no_grad():\n",
        "            lm_loss, logit = model(inputs, labels)\n",
        "            eval_loss += lm_loss.mean().item()\n",
        "            logits.append(logit.cpu().numpy())\n",
        "            y_trues.append(labels.cpu().numpy())\n",
        "        nb_eval_steps += 1\n",
        "    logits = np.concatenate(logits, 0)\n",
        "    y_trues = np.concatenate(y_trues, 0)\n",
        "    best_threshold = 0.5\n",
        "\n",
        "    y_preds = logits[:, 1] > best_threshold\n",
        "    recall = recall_score(y_trues, y_preds)\n",
        "    precision = precision_score(y_trues, y_preds)\n",
        "    f1 = f1_score(y_trues, y_preds)\n",
        "    result = {\n",
        "        \"eval_recall\": float(recall),\n",
        "        \"eval_precision\": float(precision),\n",
        "        \"eval_f1\": float(f1),\n",
        "        \"eval_threshold\": best_threshold,\n",
        "    }\n",
        "\n",
        "    # print(\"***** Eval results *****\")\n",
        "    # for key in sorted(result.keys()):\n",
        "    #     print(\"  %s = %s\", key, str(round(result[key], 4)))\n",
        "    # logger.info(\"  \" + \"*\" * 20)\n",
        "\n",
        "    # if write_to_pred:\n",
        "    #     with open(os.path.join(args.output_dir, \"predictions.txt\"), 'w') as f:\n",
        "    #         for example, pred in zip(eval_examples, y_preds):\n",
        "    #             if pred:\n",
        "    #                 f.write(example.url1 + '\\t' + example.url2 + '\\t' + '1' + '\\n')\n",
        "    #             else:\n",
        "    #                 f.write(example.url1 + '\\t' + example.url2 + '\\t' + '0' + '\\n')\n",
        "\n",
        "    return result\n"
      ],
      "metadata": {
        "id": "YmLl-_IQOAyC"
      },
      "execution_count": 108,
      "outputs": []
    },
    {
      "cell_type": "code",
      "source": [
        "class CloneInputFeatures(object):\n",
        "    \"\"\"A single training/test features for a example.\"\"\"\n",
        "\n",
        "    def __init__(self,\n",
        "                 example_id,\n",
        "                 source_ids,\n",
        "                 label,\n",
        "                 url1,\n",
        "                 url2\n",
        "                 ):\n",
        "        self.example_id = example_id\n",
        "        self.source_ids = source_ids\n",
        "        self.label = label\n",
        "        self.url1 = url1\n",
        "        self.url2 = url2"
      ],
      "metadata": {
        "id": "Kamrf4vQPL4X"
      },
      "execution_count": 109,
      "outputs": []
    },
    {
      "cell_type": "code",
      "source": [
        "def convert_clone_examples_to_features(item):\n",
        "    example, example_index, tokenizer = item\n",
        "    # if args.model_type in ['t5', 'codet5'] and args.add_task_prefix:\n",
        "    #     source_str = \"{}: {}\".format(args.task, example.source)\n",
        "    #     target_str = \"{}: {}\".format(args.task, example.target)\n",
        "    # else:\n",
        "    source_str = example.source\n",
        "    target_str = example.target\n",
        "    code1 = tokenizer.encode(source_str, max_length=400, padding='max_length', truncation=True)\n",
        "    code2 = tokenizer.encode(target_str, max_length=400, padding='max_length', truncation=True)\n",
        "    source_ids = code1 + code2\n",
        "    return CloneInputFeatures(example_index, source_ids, example.label, example.url1, example.url2)\n"
      ],
      "metadata": {
        "id": "ZyfU96TrPIAx"
      },
      "execution_count": 110,
      "outputs": []
    },
    {
      "cell_type": "code",
      "source": [
        "import json"
      ],
      "metadata": {
        "id": "OH-BnnwKTSNG"
      },
      "execution_count": 111,
      "outputs": []
    },
    {
      "cell_type": "code",
      "source": [
        "lens = []\n",
        "with open(\"/content/data.jsonl\") as f:\n",
        "    for line in f:\n",
        "        line = line.strip()\n",
        "        js = json.loads(line)\n",
        "        code = js['func'].split()\n",
        "        lens.append(len(code))"
      ],
      "metadata": {
        "id": "7T50GWk9jUne"
      },
      "execution_count": 96,
      "outputs": []
    },
    {
      "cell_type": "code",
      "source": [
        "import pandas as pd\n",
        "pd.Series(lens).hist(bins = 1000)"
      ],
      "metadata": {
        "colab": {
          "base_uri": "https://localhost:8080/",
          "height": 282
        },
        "id": "UmbWduznjwh1",
        "outputId": "1b2e12f7-b698-4bf4-96b7-bba309dd5e35"
      },
      "execution_count": 97,
      "outputs": [
        {
          "output_type": "execute_result",
          "data": {
            "text/plain": [
              "<matplotlib.axes._subplots.AxesSubplot at 0x7ff22da231d0>"
            ]
          },
          "metadata": {},
          "execution_count": 97
        },
        {
          "output_type": "display_data",
          "data": {
            "text/plain": [
              "<Figure size 432x288 with 1 Axes>"
            ],
            "image/png": "[encoded data removed]"
          },
          "metadata": {
            "needs_background": "light"
          }
        }
      ]
    },
    {
      "cell_type": "code",
      "source": [
        "def read_clone_examples(filename=\"/content/valid.txt\"):\n",
        "    \"\"\"Read examples from filename.\"\"\"\n",
        "    index_filename = filename\n",
        "    url_to_code = {}\n",
        "    with open('/'.join(index_filename.split('/')[:-1]) + '/data.jsonl') as f:\n",
        "        for line in f:\n",
        "            line = line.strip()\n",
        "            js = json.loads(line)\n",
        "            code = ' '.join(js['func'].split())\n",
        "            url_to_code[js['idx']] = code\n",
        "\n",
        "    data = []\n",
        "    with open(index_filename) as f:\n",
        "        # idx = 0\n",
        "        for line in f:\n",
        "            line = line.strip()\n",
        "            url1, url2, label = line.split('\\t')\n",
        "            if url1 not in url_to_code or url2 not in url_to_code:\n",
        "                continue\n",
        "            if label == '0':\n",
        "                label = 0\n",
        "            else:\n",
        "                label = 1\n",
        "            data.append(CloneExample(url_to_code[url1], url_to_code[url2], label, url1, url2))\n",
        "            # idx += 1\n",
        "            # if idx == data_num:\n",
        "            #     break\n",
        "    return data"
      ],
      "metadata": {
        "id": "WVLPQKVkiCf_"
      },
      "execution_count": 112,
      "outputs": []
    },
    {
      "cell_type": "code",
      "source": [
        "from torch.utils.data import TensorDataset"
      ],
      "metadata": {
        "id": "wLBK52GtTy8G"
      },
      "execution_count": 99,
      "outputs": []
    },
    {
      "cell_type": "code",
      "source": [
        "def load_and_cache_clone_data(filename, tokenizer):\n",
        "    # cache_fn = '{}/{}.pt'.format(args.cache_path, split_tag + '_all' if args.data_num == -1 else '_%d' % args.data_num)\n",
        "  examples = read_clone_examples(filename)\n",
        "    # if is_sample:\n",
        "    #     examples = random.sample(examples, int(len(examples) * 0.1))\n",
        "\n",
        "    # calc_stats(examples, tokenizer, is_tokenize=True)\n",
        "    # if os.path.exists(cache_fn):\n",
        "    #     logger.info(\"Load cache data from %s\", cache_fn)\n",
        "    #     data = torch.load(cache_fn)\n",
        "    # else:\n",
        "      # if is_sample:\n",
        "      #     logger.info(\"Sample 10 percent of data from %s\", filename)\n",
        "      # elif args.data_num == -1:\n",
        "      #     logger.info(\"Create cache data into %s\", cache_fn)\n",
        "  tuple_examples = [(example, idx, tokenizer) for idx, example in enumerate(examples)]\n",
        "  features = list(map(convert_clone_examples_to_features, tuple_examples))\n",
        "  # features = pool.map(convert_clone_examples_to_features, tqdm(tuple_examples, total=len(tuple_examples)))\n",
        "  all_source_ids = [f.source_ids for f in features]\n",
        "  # print(f\"source IDs: {len(all_source_ids)}\")\n",
        "  all_source_ids = torch.tensor(all_source_ids, dtype=torch.long)\n",
        "\n",
        "  all_labels = [f.label for f in features]\n",
        "  # print(f\"all labels: {len(all_labels)}\")\n",
        "  all_labels = torch.tensor(all_labels, dtype=torch.long)\n",
        "\n",
        "  # data = None\n",
        "  data = TensorDataset(all_source_ids, all_labels)\n",
        "  \n",
        "\n",
        "  # if args.local_rank in [-1, 0] and args.data_num == -1:\n",
        "  #     torch.save(data, cache_fn)\n",
        "  return examples, data"
      ],
      "metadata": {
        "id": "F61SuLuwN6I5"
      },
      "execution_count": 113,
      "outputs": []
    },
    {
      "cell_type": "code",
      "source": [
        "eval_examples, eval_data = load_and_cache_clone_data(\"/content/test_small.txt\", tokenizer)"
      ],
      "metadata": {
        "id": "LAa5WRCSOOit"
      },
      "execution_count": 114,
      "outputs": []
    },
    {
      "cell_type": "code",
      "source": [
        "eval_data"
      ],
      "metadata": {
        "colab": {
          "base_uri": "https://localhost:8080/"
        },
        "id": "QDgXeduCl2q2",
        "outputId": "8ba037b5-d679-477d-d5c8-7334903d5bb6"
      },
      "execution_count": 116,
      "outputs": [
        {
          "output_type": "execute_result",
          "data": {
            "text/plain": [
              "<torch.utils.data.dataset.TensorDataset at 0x7ff23e84d150>"
            ]
          },
          "metadata": {},
          "execution_count": 116
        }
      ]
    },
    {
      "cell_type": "code",
      "source": [
        "result = evaluate(model, eval_examples, eval_data)"
      ],
      "metadata": {
        "colab": {
          "base_uri": "https://localhost:8080/",
          "height": 86,
          "referenced_widgets": [
            "81613d3bfe8e4fdabf9caf582e166616",
            "b3483c08a8934346930d6094273b049c",
            "553c8ef5418948e1996b1ff3f93e5e7c",
            "6a7677b2c24741e58e4dfc2933a8f3db",
            "8d2b319745254fc2aa40b099dc3850ef",
            "e84a74a1978d4cffa66ac31acdde6d20",
            "6169f9a270e5462ab0ea15d8a3c5a813",
            "b0ea4ff9f2d8431cbbc158e462754272",
            "8865deaa91304abcb863acf2689e6d4e",
            "3e83d55bf7c14a48aeeeb7d001e80bd6",
            "88393429ffd34d6ba9f4cf8b15cb4709"
          ]
        },
        "id": "h1Z-Tx7VUMtO",
        "outputId": "bff43250-fd19-4dcc-9f45-4a47e4ae500d"
      },
      "execution_count": 117,
      "outputs": [
        {
          "output_type": "display_data",
          "data": {
            "text/plain": [
              "Evaluating:   0%|          | 0/100 [00:00<?, ?it/s]"
            ],
            "application/vnd.jupyter.widget-view+json": {
              "version_major": 2,
              "version_minor": 0,
              "model_id": "81613d3bfe8e4fdabf9caf582e166616"
            }
          },
          "metadata": {}
        },
        {
          "output_type": "stream",
          "name": "stderr",
          "text": [
            "/usr/local/lib/python3.7/dist-packages/ipykernel_launcher.py:54: UserWarning: Implicit dimension choice for softmax has been deprecated. Change the call to include dim=X as an argument.\n"
          ]
        }
      ]
    },
    {
      "cell_type": "code",
      "source": [
        "print(\"  test_f1=%.4f\", result['eval_f1'])\n",
        "print(\"  test_prec=%.4f\", result['eval_precision'])\n",
        "print(\"  test_rec=%.4f\", result['eval_recall'])\n",
        "print(\"  \" + \"*\" * 20)"
      ],
      "metadata": {
        "colab": {
          "base_uri": "https://localhost:8080/"
        },
        "id": "LVGciXXjUOJM",
        "outputId": "56935e66-3d00-4e68-b2d6-92e42157d6f4"
      },
      "execution_count": 118,
      "outputs": [
        {
          "output_type": "stream",
          "name": "stdout",
          "text": [
            "  test_f1=%.4f 0.2452107279693487\n",
            "  test_prec=%.4f 0.1671018276762402\n",
            "  test_rec=%.4f 0.460431654676259\n",
            "  ********************\n"
          ]
        }
      ]
    },
    {
      "cell_type": "code",
      "source": [
        "# base_model = T5ForConditionalGeneration.from_pretrained('Salesforce/codet5-base')\n",
        "# tokenizer = RobertaTokenizer.from_pretrained('Salesforce/codet5-base')"
      ],
      "metadata": {
        "id": "3fQ0joeoelao"
      },
      "execution_count": null,
      "outputs": []
    },
    {
      "cell_type": "code",
      "source": [
        "# param_dict = torch.load(ckpt_path)\n",
        "# model.load_state_dict(param_dict)"
      ],
      "metadata": {
        "id": "_ctRavuxJ2NF"
      },
      "execution_count": 74,
      "outputs": []
    },
    {
      "cell_type": "code",
      "source": [
        "# pred = model.generate(**diff)\n",
        "# print(tokenizer.decode(pred[0], skip_special_tokens=True))"
      ],
      "metadata": {
        "id": "XjxPvS63K-eC"
      },
      "execution_count": 75,
      "outputs": []
    },
    {
      "cell_type": "code",
      "source": [
        "# generated_ids = base_model.generate(**diff, max_length=8)\n",
        "# print(tokenizer.decode(generated_ids[0], skip_special_tokens=True))"
      ],
      "metadata": {
        "id": "fUXF6J1XNIsO"
      },
      "execution_count": 76,
      "outputs": []
    },
    {
      "cell_type": "code",
      "source": [
        "# tokenizer.decode(generated_ids[0], skip_special_tokens=True)"
      ],
      "metadata": {
        "id": "A8Wm1F5CM7ss"
      },
      "execution_count": 77,
      "outputs": []
    }
  ],
  "metadata": {
    "colab": {
      "collapsed_sections": [],
      "name": "CodeT5",
      "provenance": [],
      "include_colab_link": true
    },
    "kernelspec": {
      "display_name": "Python 3",
      "name": "python3"
    },
    "accelerator": "GPU",
    "widgets": {
      "application/vnd.jupyter.widget-state+json": {
        "81613d3bfe8e4fdabf9caf582e166616": {
          "model_module": "@jupyter-widgets/controls",
          "model_name": "HBoxModel",
          "model_module_version": "1.5.0",
          "state": {
            "_dom_classes": [],
            "_model_module": "@jupyter-widgets/controls",
            "_model_module_version": "1.5.0",
            "_model_name": "HBoxModel",
            "_view_count": null,
            "_view_module": "@jupyter-widgets/controls",
            "_view_module_version": "1.5.0",
            "_view_name": "HBoxView",
            "box_style": "",
            "children": [
              "IPY_MODEL_b3483c08a8934346930d6094273b049c",
              "IPY_MODEL_553c8ef5418948e1996b1ff3f93e5e7c",
              "IPY_MODEL_6a7677b2c24741e58e4dfc2933a8f3db"
            ],
            "layout": "IPY_MODEL_8d2b319745254fc2aa40b099dc3850ef"
          }
        },
        "b3483c08a8934346930d6094273b049c": {
          "model_module": "@jupyter-widgets/controls",
          "model_name": "HTMLModel",
          "model_module_version": "1.5.0",
          "state": {
            "_dom_classes": [],
            "_model_module": "@jupyter-widgets/controls",
            "_model_module_version": "1.5.0",
            "_model_name": "HTMLModel",
            "_view_count": null,
            "_view_module": "@jupyter-widgets/controls",
            "_view_module_version": "1.5.0",
            "_view_name": "HTMLView",
            "description": "",
            "description_tooltip": null,
            "layout": "IPY_MODEL_e84a74a1978d4cffa66ac31acdde6d20",
            "placeholder": "​",
            "style": "IPY_MODEL_6169f9a270e5462ab0ea15d8a3c5a813",
            "value": "Evaluating: 100%"
          }
        },
        "553c8ef5418948e1996b1ff3f93e5e7c": {
          "model_module": "@jupyter-widgets/controls",
          "model_name": "FloatProgressModel",
          "model_module_version": "1.5.0",
          "state": {
            "_dom_classes": [],
            "_model_module": "@jupyter-widgets/controls",
            "_model_module_version": "1.5.0",
            "_model_name": "FloatProgressModel",
            "_view_count": null,
            "_view_module": "@jupyter-widgets/controls",
            "_view_module_version": "1.5.0",
            "_view_name": "ProgressView",
            "bar_style": "success",
            "description": "",
            "description_tooltip": null,
            "layout": "IPY_MODEL_b0ea4ff9f2d8431cbbc158e462754272",
            "max": 100,
            "min": 0,
            "orientation": "horizontal",
            "style": "IPY_MODEL_8865deaa91304abcb863acf2689e6d4e",
            "value": 100
          }
        },
        "6a7677b2c24741e58e4dfc2933a8f3db": {
          "model_module": "@jupyter-widgets/controls",
          "model_name": "HTMLModel",
          "model_module_version": "1.5.0",
          "state": {
            "_dom_classes": [],
            "_model_module": "@jupyter-widgets/controls",
            "_model_module_version": "1.5.0",
            "_model_name": "HTMLModel",
            "_view_count": null,
            "_view_module": "@jupyter-widgets/controls",
            "_view_module_version": "1.5.0",
            "_view_name": "HTMLView",
            "description": "",
            "description_tooltip": null,
            "layout": "IPY_MODEL_3e83d55bf7c14a48aeeeb7d001e80bd6",
            "placeholder": "​",
            "style": "IPY_MODEL_88393429ffd34d6ba9f4cf8b15cb4709",
            "value": " 100/100 [04:38&lt;00:00,  2.78s/it]"
          }
        },
        "8d2b319745254fc2aa40b099dc3850ef": {
          "model_module": "@jupyter-widgets/base",
          "model_name": "LayoutModel",
          "model_module_version": "1.2.0",
          "state": {
            "_model_module": "@jupyter-widgets/base",
            "_model_module_version": "1.2.0",
            "_model_name": "LayoutModel",
            "_view_count": null,
            "_view_module": "@jupyter-widgets/base",
            "_view_module_version": "1.2.0",
            "_view_name": "LayoutView",
            "align_content": null,
            "align_items": null,
            "align_self": null,
            "border": null,
            "bottom": null,
            "display": null,
            "flex": null,
            "flex_flow": null,
            "grid_area": null,
            "grid_auto_columns": null,
            "grid_auto_flow": null,
            "grid_auto_rows": null,
            "grid_column": null,
            "grid_gap": null,
            "grid_row": null,
            "grid_template_areas": null,
            "grid_template_columns": null,
            "grid_template_rows": null,
            "height": null,
            "justify_content": null,
            "justify_items": null,
            "left": null,
            "margin": null,
            "max_height": null,
            "max_width": null,
            "min_height": null,
            "min_width": null,
            "object_fit": null,
            "object_position": null,
            "order": null,
            "overflow": null,
            "overflow_x": null,
            "overflow_y": null,
            "padding": null,
            "right": null,
            "top": null,
            "visibility": null,
            "width": null
          }
        },
        "e84a74a1978d4cffa66ac31acdde6d20": {
          "model_module": "@jupyter-widgets/base",
          "model_name": "LayoutModel",
          "model_module_version": "1.2.0",
          "state": {
            "_model_module": "@jupyter-widgets/base",
            "_model_module_version": "1.2.0",
            "_model_name": "LayoutModel",
            "_view_count": null,
            "_view_module": "@jupyter-widgets/base",
            "_view_module_version": "1.2.0",
            "_view_name": "LayoutView",
            "align_content": null,
            "align_items": null,
            "align_self": null,
            "border": null,
            "bottom": null,
            "display": null,
            "flex": null,
            "flex_flow": null,
            "grid_area": null,
            "grid_auto_columns": null,
            "grid_auto_flow": null,
            "grid_auto_rows": null,
            "grid_column": null,
            "grid_gap": null,
            "grid_row": null,
            "grid_template_areas": null,
            "grid_template_columns": null,
            "grid_template_rows": null,
            "height": null,
            "justify_content": null,
            "justify_items": null,
            "left": null,
            "margin": null,
            "max_height": null,
            "max_width": null,
            "min_height": null,
            "min_width": null,
            "object_fit": null,
            "object_position": null,
            "order": null,
            "overflow": null,
            "overflow_x": null,
            "overflow_y": null,
            "padding": null,
            "right": null,
            "top": null,
            "visibility": null,
            "width": null
          }
        },
        "6169f9a270e5462ab0ea15d8a3c5a813": {
          "model_module": "@jupyter-widgets/controls",
          "model_name": "DescriptionStyleModel",
          "model_module_version": "1.5.0",
          "state": {
            "_model_module": "@jupyter-widgets/controls",
            "_model_module_version": "1.5.0",
            "_model_name": "DescriptionStyleModel",
            "_view_count": null,
            "_view_module": "@jupyter-widgets/base",
            "_view_module_version": "1.2.0",
            "_view_name": "StyleView",
            "description_width": ""
          }
        },
        "b0ea4ff9f2d8431cbbc158e462754272": {
          "model_module": "@jupyter-widgets/base",
          "model_name": "LayoutModel",
          "model_module_version": "1.2.0",
          "state": {
            "_model_module": "@jupyter-widgets/base",
            "_model_module_version": "1.2.0",
            "_model_name": "LayoutModel",
            "_view_count": null,
            "_view_module": "@jupyter-widgets/base",
            "_view_module_version": "1.2.0",
            "_view_name": "LayoutView",
            "align_content": null,
            "align_items": null,
            "align_self": null,
            "border": null,
            "bottom": null,
            "display": null,
            "flex": null,
            "flex_flow": null,
            "grid_area": null,
            "grid_auto_columns": null,
            "grid_auto_flow": null,
            "grid_auto_rows": null,
            "grid_column": null,
            "grid_gap": null,
            "grid_row": null,
            "grid_template_areas": null,
            "grid_template_columns": null,
            "grid_template_rows": null,
            "height": null,
            "justify_content": null,
            "justify_items": null,
            "left": null,
            "margin": null,
            "max_height": null,
            "max_width": null,
            "min_height": null,
            "min_width": null,
            "object_fit": null,
            "object_position": null,
            "order": null,
            "overflow": null,
            "overflow_x": null,
            "overflow_y": null,
            "padding": null,
            "right": null,
            "top": null,
            "visibility": null,
            "width": null
          }
        },
        "8865deaa91304abcb863acf2689e6d4e": {
          "model_module": "@jupyter-widgets/controls",
          "model_name": "ProgressStyleModel",
          "model_module_version": "1.5.0",
          "state": {
            "_model_module": "@jupyter-widgets/controls",
            "_model_module_version": "1.5.0",
            "_model_name": "ProgressStyleModel",
            "_view_count": null,
            "_view_module": "@jupyter-widgets/base",
            "_view_module_version": "1.2.0",
            "_view_name": "StyleView",
            "bar_color": null,
            "description_width": ""
          }
        },
        "3e83d55bf7c14a48aeeeb7d001e80bd6": {
          "model_module": "@jupyter-widgets/base",
          "model_name": "LayoutModel",
          "model_module_version": "1.2.0",
          "state": {
            "_model_module": "@jupyter-widgets/base",
            "_model_module_version": "1.2.0",
            "_model_name": "LayoutModel",
            "_view_count": null,
            "_view_module": "@jupyter-widgets/base",
            "_view_module_version": "1.2.0",
            "_view_name": "LayoutView",
            "align_content": null,
            "align_items": null,
            "align_self": null,
            "border": null,
            "bottom": null,
            "display": null,
            "flex": null,
            "flex_flow": null,
            "grid_area": null,
            "grid_auto_columns": null,
            "grid_auto_flow": null,
            "grid_auto_rows": null,
            "grid_column": null,
            "grid_gap": null,
            "grid_row": null,
            "grid_template_areas": null,
            "grid_template_columns": null,
            "grid_template_rows": null,
            "height": null,
            "justify_content": null,
            "justify_items": null,
            "left": null,
            "margin": null,
            "max_height": null,
            "max_width": null,
            "min_height": null,
            "min_width": null,
            "object_fit": null,
            "object_position": null,
            "order": null,
            "overflow": null,
            "overflow_x": null,
            "overflow_y": null,
            "padding": null,
            "right": null,
            "top": null,
            "visibility": null,
            "width": null
          }
        },
        "88393429ffd34d6ba9f4cf8b15cb4709": {
          "model_module": "@jupyter-widgets/controls",
          "model_name": "DescriptionStyleModel",
          "model_module_version": "1.5.0",
          "state": {
            "_model_module": "@jupyter-widgets/controls",
            "_model_module_version": "1.5.0",
            "_model_name": "DescriptionStyleModel",
            "_view_count": null,
            "_view_module": "@jupyter-widgets/base",
            "_view_module_version": "1.2.0",
            "_view_name": "StyleView",
            "description_width": ""
          }
        }
      }
    }
  },
  "nbformat": 4,
  "nbformat_minor": 0
}